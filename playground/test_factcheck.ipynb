{
 "cells": [
  {
   "cell_type": "code",
   "execution_count": 1,
   "metadata": {},
   "outputs": [],
   "source": [
    "import sys\n",
    "import os\n",
    "\n",
    "openagent_dir = os.path.dirname(os.path.abspath(\"\"))\n",
    "sys.path.append(openagent_dir)"
   ]
  },
  {
   "cell_type": "code",
   "execution_count": 2,
   "metadata": {},
   "outputs": [],
   "source": [
    "# sys.path"
   ]
  },
  {
   "cell_type": "code",
   "execution_count": 2,
   "metadata": {},
   "outputs": [
    {
     "name": "stderr",
     "output_type": "stream",
     "text": [
      "c:\\Users\\DELL\\anaconda3\\envs\\openagent\\Lib\\site-packages\\deeplake\\util\\check_latest_version.py:32: UserWarning: A newer version of deeplake (3.6.21) is available. It's recommended that you update to the latest version using `pip install -U deeplake`.\n",
      "  warnings.warn(\n"
     ]
    },
    {
     "ename": "ModuleNotFoundError",
     "evalue": "No module named 'factool'",
     "output_type": "error",
     "traceback": [
      "\u001b[1;31m---------------------------------------------------------------------------\u001b[0m",
      "\u001b[1;31mModuleNotFoundError\u001b[0m                       Traceback (most recent call last)",
      "Cell \u001b[1;32mIn[2], line 2\u001b[0m\n\u001b[0;32m      1\u001b[0m \u001b[39mfrom\u001b[39;00m \u001b[39mopenagent\u001b[39;00m\u001b[39m.\u001b[39;00m\u001b[39mllms\u001b[39;00m\u001b[39m.\u001b[39;00m\u001b[39m_openai\u001b[39;00m \u001b[39mimport\u001b[39;00m OpenAI\n\u001b[1;32m----> 2\u001b[0m \u001b[39mfrom\u001b[39;00m \u001b[39mopenagent\u001b[39;00m\u001b[39m.\u001b[39;00m\u001b[39mfact_check\u001b[39;00m\u001b[39m.\u001b[39;00m\u001b[39mfactool\u001b[39;00m \u001b[39mimport\u001b[39;00m Factool\n\u001b[0;32m      3\u001b[0m \u001b[39mfrom\u001b[39;00m \u001b[39mdotenv\u001b[39;00m \u001b[39mimport\u001b[39;00m load_dotenv\n\u001b[0;32m      5\u001b[0m load_dotenv()\n",
      "File \u001b[1;32mc:\\Users\\DELL\\Documents\\Zenop\\dotagent\\openagent\\openagent\\fact_check\\__init__.py:1\u001b[0m\n\u001b[1;32m----> 1\u001b[0m \u001b[39mfrom\u001b[39;00m \u001b[39mopenagent\u001b[39;00m\u001b[39m.\u001b[39;00m\u001b[39mfact_check\u001b[39;00m\u001b[39m.\u001b[39;00m\u001b[39mfactool\u001b[39;00m \u001b[39mimport\u001b[39;00m Factool\n\u001b[0;32m      2\u001b[0m \u001b[39mfrom\u001b[39;00m \u001b[39mopenagent\u001b[39;00m\u001b[39m.\u001b[39;00m\u001b[39mfact_check\u001b[39;00m\u001b[39m.\u001b[39;00m\u001b[39mtasks\u001b[39;00m \u001b[39mimport\u001b[39;00m TaskType\n",
      "File \u001b[1;32mc:\\Users\\DELL\\Documents\\Zenop\\dotagent\\openagent\\openagent\\fact_check\\factool.py:5\u001b[0m\n\u001b[0;32m      2\u001b[0m \u001b[39mimport\u001b[39;00m \u001b[39mcopy\u001b[39;00m\n\u001b[0;32m      3\u001b[0m \u001b[39mimport\u001b[39;00m \u001b[39mpdb\u001b[39;00m\n\u001b[1;32m----> 5\u001b[0m \u001b[39mfrom\u001b[39;00m \u001b[39mopenagent\u001b[39;00m\u001b[39m.\u001b[39;00m\u001b[39mfact_check\u001b[39;00m\u001b[39m.\u001b[39;00m\u001b[39mknowledge_qa\u001b[39;00m\u001b[39m.\u001b[39;00m\u001b[39mpipeline\u001b[39;00m \u001b[39mimport\u001b[39;00m knowledge_qa_pipeline\n\u001b[0;32m      6\u001b[0m \u001b[39mfrom\u001b[39;00m \u001b[39mopenagent\u001b[39;00m\u001b[39m.\u001b[39;00m\u001b[39mfact_check\u001b[39;00m\u001b[39m.\u001b[39;00m\u001b[39mcode\u001b[39;00m\u001b[39m.\u001b[39;00m\u001b[39mpipeline\u001b[39;00m \u001b[39mimport\u001b[39;00m code_pipeline\n\u001b[0;32m      7\u001b[0m \u001b[39mfrom\u001b[39;00m \u001b[39mopenagent\u001b[39;00m\u001b[39m.\u001b[39;00m\u001b[39mfact_check\u001b[39;00m\u001b[39m.\u001b[39;00m\u001b[39mmath\u001b[39;00m\u001b[39m.\u001b[39;00m\u001b[39mpipeline\u001b[39;00m \u001b[39mimport\u001b[39;00m math_pipeline\n",
      "File \u001b[1;32mc:\\Users\\DELL\\Documents\\Zenop\\dotagent\\openagent\\openagent\\fact_check\\knowledge_qa\\pipeline.py:9\u001b[0m\n\u001b[0;32m      6\u001b[0m \u001b[39mimport\u001b[39;00m \u001b[39mpdb\u001b[39;00m\n\u001b[0;32m      7\u001b[0m \u001b[39mfrom\u001b[39;00m \u001b[39mtyping\u001b[39;00m \u001b[39mimport\u001b[39;00m List, Dict\n\u001b[1;32m----> 9\u001b[0m \u001b[39mfrom\u001b[39;00m \u001b[39mfactool\u001b[39;00m\u001b[39m.\u001b[39;00m\u001b[39mknowledge_qa\u001b[39;00m\u001b[39m.\u001b[39;00m\u001b[39mtool\u001b[39;00m \u001b[39mimport\u001b[39;00m google_search\n\u001b[0;32m     10\u001b[0m \u001b[39mfrom\u001b[39;00m \u001b[39mfactool\u001b[39;00m\u001b[39m.\u001b[39;00m\u001b[39mknowledge_qa\u001b[39;00m\u001b[39m.\u001b[39;00m\u001b[39mtool\u001b[39;00m \u001b[39mimport\u001b[39;00m local_search\n\u001b[0;32m     11\u001b[0m \u001b[39mfrom\u001b[39;00m \u001b[39mfactool\u001b[39;00m\u001b[39m.\u001b[39;00m\u001b[39mutils\u001b[39;00m\u001b[39m.\u001b[39;00m\u001b[39mbase\u001b[39;00m\u001b[39m.\u001b[39;00m\u001b[39mpipeline\u001b[39;00m \u001b[39mimport\u001b[39;00m pipeline\n",
      "\u001b[1;31mModuleNotFoundError\u001b[0m: No module named 'factool'"
     ]
    }
   ],
   "source": [
    "from openagent.llms._openai import OpenAI\n",
    "from openagent.fact_check.factool import Factool\n",
    "from dotenv import load_dotenv\n",
    "\n",
    "load_dotenv()\n",
    "\n",
    "# Initialize a Factool instance with the specified keys. foundation_model could be either \"gpt-3.5-turbo\" or \"gpt-4\"\n",
    "factool_instance = Factool(\"gpt-4\")\n",
    "\n",
    "inputs = [\n",
    "            {\n",
    "                \"prompt\": \"Introduce Graham Neubig\",\n",
    "                \"response\": \"Graham Neubig is a professor at MIT\",\n",
    "                \"category\": \"kbqa\"\n",
    "            },\n",
    "]\n",
    "response_list = factool_instance.run(inputs)\n",
    "\n",
    "print(response_list)"
   ]
  },
  {
   "cell_type": "code",
   "execution_count": null,
   "metadata": {},
   "outputs": [],
   "source": []
  }
 ],
 "metadata": {
  "kernelspec": {
   "display_name": "openagent",
   "language": "python",
   "name": "python3"
  },
  "language_info": {
   "codemirror_mode": {
    "name": "ipython",
    "version": 3
   },
   "file_extension": ".py",
   "mimetype": "text/x-python",
   "name": "python",
   "nbconvert_exporter": "python",
   "pygments_lexer": "ipython3",
   "version": "3.11.3"
  },
  "orig_nbformat": 4
 },
 "nbformat": 4,
 "nbformat_minor": 2
}
