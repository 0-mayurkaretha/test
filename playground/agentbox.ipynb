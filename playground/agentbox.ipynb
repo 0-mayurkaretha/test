{
 "cells": [
  {
   "cell_type": "code",
   "execution_count": 1,
   "metadata": {},
   "outputs": [
    {
     "name": "stderr",
     "output_type": "stream",
     "text": [
      "c:\\Users\\hp\\AppData\\Local\\Programs\\Python\\Python39\\lib\\site-packages\\deeplake\\util\\check_latest_version.py:32: UserWarning: A newer version of deeplake (3.6.19) is available. It's recommended that you update to the latest version using `pip install -U deeplake`.\n",
      "  warnings.warn(\n",
      "c:\\Users\\hp\\AppData\\Local\\Programs\\Python\\Python39\\lib\\site-packages\\tqdm\\auto.py:21: TqdmWarning: IProgress not found. Please update jupyter and ipywidgets. See https://ipywidgets.readthedocs.io/en/stable/user_install.html\n",
      "  from .autonotebook import tqdm as notebook_tqdm\n"
     ]
    }
   ],
   "source": [
    "import sys\n",
    "sys.path.append(\"..\")\n",
    "\n",
    "import openagent\n",
    "from openagent.llms._openai import OpenAI as guidance_llm\n",
    "\n",
    "from dotenv import load_dotenv\n",
    "load_dotenv()\n",
    "\n",
    "llmcc = guidance_llm(\n",
    "    model=\"gpt-3.5-turbo\"\n",
    ")"
   ]
  },
  {
   "cell_type": "code",
   "execution_count": 2,
   "metadata": {},
   "outputs": [],
   "source": [
    "chat_template = '''\n",
    "                {{#user~}}\n",
    "                I want to translate the following English text into Python code:\n",
    "                QUERY: {{input}}\n",
    "                {{~/user}}\n",
    "\n",
    "                {{#assistant~}}\n",
    "                Sure, I can assist with that. If I need more information, I'll ask for clarification.\n",
    "                {{~/assistant}}\n",
    "\n",
    "                {{#user~}}\n",
    "                Yes, go ahead and write the complete code.\n",
    "                {{~/user}}\n",
    "\n",
    "                {{#assistant~}}\n",
    "                {{gen 'response' temperature=0 max_tokens=3900}}\n",
    "                {{~/assistant}}\n",
    "\n",
    "                {{#assistant~}}\n",
    "                If the context or the task is not clear, please provide additional information to clarify.\n",
    "                {{~/assistant}}'''"
   ]
  },
  {
   "cell_type": "code",
   "execution_count": 3,
   "metadata": {},
   "outputs": [],
   "source": [
    "from openagent.agent.chat import ChatAgent\n",
    "\n",
    "agent = ChatAgent(\n",
    "    llm=llmcc,\n",
    "    prompt_template=chat_template,\n",
    "    )"
   ]
  },
  {
   "cell_type": "code",
   "execution_count": 4,
   "metadata": {},
   "outputs": [],
   "source": [
    "gpt_prompt = \"\"\"calculate my age using python program. Give answer in year, months, and days. \n",
    "Use my date of birth as 04/04/1998.\"\"\"\n",
    "\n",
    "res = agent.run(input=gpt_prompt)"
   ]
  },
  {
   "cell_type": "code",
   "execution_count": 6,
   "metadata": {},
   "outputs": [
    {
     "name": "stdout",
     "output_type": "stream",
     "text": [
      "\n",
      "from datetime import date\n",
      "\n",
      "def calculate_age(birth_date):\n",
      "    today = date.today()\n",
      "    age = today.year - birth_date.year\n",
      "    if today.month < birth_date.month or (today.month == birth_date.month and today.day < birth_date.day):\n",
      "        age -= 1\n",
      "    months = (today.month - birth_date.month) % 12\n",
      "    days = (today.day - birth_date.day) % 30  # Assuming each month has 30 days\n",
      "\n",
      "    return age, months, days\n",
      "\n",
      "# Enter your date of birth in the format: year, month, day\n",
      "birth_date = date(1998, 4, 4)\n",
      "age_years, age_months, age_days = calculate_age(birth_date)\n",
      "\n",
      "print(\"Your age is: {} years, {} months, and {} days.\".format(age_years, age_months, age_days))\n",
      "\n"
     ]
    },
    {
     "data": {
      "text/plain": [
       "'Your age is: 25 years, 4 months, and 14 days.'"
      ]
     },
     "metadata": {},
     "output_type": "display_data"
    },
    {
     "name": "stdout",
     "output_type": "stream",
     "text": [
      "Code execution completed\n"
     ]
    }
   ],
   "source": [
    "import base64\n",
    "\n",
    "encoded_res = base64.b64encode(res.encode()).decode()\n",
    "\n",
    "%run agentbox01.py --response '''{encoded_res}'''"
   ]
  },
  {
   "cell_type": "code",
   "execution_count": null,
   "metadata": {},
   "outputs": [],
   "source": []
  },
  {
   "cell_type": "code",
   "execution_count": null,
   "metadata": {},
   "outputs": [],
   "source": []
  },
  {
   "cell_type": "code",
   "execution_count": null,
   "metadata": {},
   "outputs": [],
   "source": []
  },
  {
   "cell_type": "code",
   "execution_count": 9,
   "metadata": {},
   "outputs": [
    {
     "name": "stdout",
     "output_type": "stream",
     "text": [
      "\n",
      "from datetime import date\n",
      "\n",
      "def calculate_age(birth_date):\n",
      "    today = date.today()\n",
      "    age = today.year - birth_date.year\n",
      "    if today.month < birth_date.month or (today.month == birth_date.month and today.day < birth_date.day):\n",
      "        age -= 1\n",
      "    months = (today.month - birth_date.month) % 12\n",
      "    days = (today.day - birth_date.day) % 30  # Assuming each month has 30 days\n",
      "\n",
      "    return age, months, days\n",
      "\n",
      "# Enter your date of birth in the format: dd/mm/yyyy\n",
      "birth_date = date(1998, 4, 4)\n",
      "age_years, age_months, age_days = calculate_age(birth_date)\n",
      "\n",
      "print(\"Your age is: {} years, {} months, and {} days.\".format(age_years, age_months, age_days))\n",
      "\n"
     ]
    },
    {
     "data": {
      "text/plain": [
       "'Your age is: 25 years, 4 months, and 14 days.'"
      ]
     },
     "metadata": {},
     "output_type": "display_data"
    },
    {
     "name": "stdout",
     "output_type": "stream",
     "text": [
      "Code execution completed\n"
     ]
    }
   ],
   "source": [
    "%run agentbox.py --gpt_prompt \"calculate my age using python program. Give answer in year, months, and days. Use my date of birth as 04/04/1998.\""
   ]
  },
  {
   "cell_type": "code",
   "execution_count": null,
   "metadata": {},
   "outputs": [],
   "source": []
  }
 ],
 "metadata": {
  "kernelspec": {
   "display_name": "Python 3",
   "language": "python",
   "name": "python3"
  },
  "language_info": {
   "codemirror_mode": {
    "name": "ipython",
    "version": 3
   },
   "file_extension": ".py",
   "mimetype": "text/x-python",
   "name": "python",
   "nbconvert_exporter": "python",
   "pygments_lexer": "ipython3",
   "version": "3.9.7"
  },
  "orig_nbformat": 4
 },
 "nbformat": 4,
 "nbformat_minor": 2
}
