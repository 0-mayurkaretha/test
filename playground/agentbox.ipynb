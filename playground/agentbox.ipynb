{
 "cells": [
  {
   "cell_type": "code",
   "execution_count": null,
   "metadata": {},
   "outputs": [],
   "source": [
    "import sys\n",
    "sys.path.append(\"..\")\n",
    "\n",
    "import openagent\n",
    "from openagent.llms._openai import OpenAI as guidance_llm\n",
    "\n",
    "from dotenv import load_dotenv\n",
    "load_dotenv()\n",
    "\n",
    "llmcc = guidance_llm(\n",
    "    model=\"gpt-3.5-turbo\"\n",
    ")\n",
    "llmtc = guidance_llm(\n",
    "    model=\"text-davinci-003\"\n",
    ")"
   ]
  },
  {
   "cell_type": "code",
   "execution_count": null,
   "metadata": {},
   "outputs": [],
   "source": [
    "chat_template = '''\n",
    "                {{#user~}}\n",
    "                I want to translate the following English text into Python code:\n",
    "                QUERY: {{input}}\n",
    "                {{~/user}}\n",
    "\n",
    "                {{#assistant~}}\n",
    "                Sure, I can assist with that. If I need more information, I'll ask for clarification.\n",
    "                {{~/assistant}}\n",
    "\n",
    "                {{#user~}}\n",
    "                Yes, go ahead and write the complete code.\n",
    "                {{~/user}}\n",
    "\n",
    "                {{#assistant~}}\n",
    "                {{gen 'response' temperature=0 max_tokens=3900}}\n",
    "                {{~/assistant}}\n",
    "\n",
    "                {{#assistant~}}\n",
    "                If the context or the task is not clear, please provide additional information to clarify.\n",
    "                {{~/assistant}}'''"
   ]
  },
  {
   "cell_type": "code",
   "execution_count": null,
   "metadata": {},
   "outputs": [],
   "source": [
    "from openagent.agent.chat import ChatAgent\n",
    "\n",
    "agent = ChatAgent(\n",
    "    llm=llmcc,\n",
    "    prompt_template=chat_template,\n",
    "    )"
   ]
  },
  {
   "cell_type": "code",
   "execution_count": null,
   "metadata": {},
   "outputs": [],
   "source": [
    "# gpt_prompt = \"\"\"\n",
    "# We are writing snake in python. MVC components split in separate files. Keyboard control.\n",
    "# Make food pellet orange. Always have 2 food pellets on the screen at any time.\n",
    "# Make pellets move, by changing position every 5 seconds in any of the 8 directions by 1 cell.\n",
    "# Make the game grid 50 by 50 cells.\n",
    "# Display score in the upper right corner. Snake eating 1 pellet adds 100 to the score.\n",
    "# \"\"\"\n",
    "\n",
    "gpt_prompt = \"\"\"Write a simple python program to get fibonacci of 20.\"\"\"\n",
    "# gpt_prompt = \"\"\"Generate Python code to calculate the Fibonacci sequence up to 20 terms and return a formatted string representation of the sequence.\"\"\"\n",
    "\n",
    "res = agent.run(input=gpt_prompt)"
   ]
  },
  {
   "cell_type": "code",
   "execution_count": null,
   "metadata": {},
   "outputs": [],
   "source": [
    "print(res)"
   ]
  },
  {
   "cell_type": "code",
   "execution_count": null,
   "metadata": {},
   "outputs": [],
   "source": [
    "c = f\"\"\"{res.split('```')[1].replace('python', '')}\"\"\"\n",
    "# print(c)\n",
    "# print(type(c))\n",
    "c"
   ]
  },
  {
   "cell_type": "code",
   "execution_count": null,
   "metadata": {},
   "outputs": [],
   "source": [
    "# Split the code into lines\n",
    "lines = c.split('\\n')\n",
    "\n",
    "# Find the common leading whitespace\n",
    "common_whitespace = min(len(line) - len(line.lstrip()) for line in lines if line.strip())\n",
    "\n",
    "# Remove the common whitespace from each line\n",
    "formatted_code = '\\n'.join(line[common_whitespace:] for line in lines)\n",
    "\n",
    "# Print or use the formatted_code as needed\n",
    "print(formatted_code)\n",
    "formatted_code\n"
   ]
  },
  {
   "cell_type": "code",
   "execution_count": null,
   "metadata": {},
   "outputs": [],
   "source": []
  },
  {
   "cell_type": "code",
   "execution_count": null,
   "metadata": {},
   "outputs": [],
   "source": []
  },
  {
   "cell_type": "code",
   "execution_count": 2,
   "metadata": {},
   "outputs": [
    {
     "name": "stdout",
     "output_type": "stream",
     "text": [
      "\n",
      "from datetime import date\n",
      "\n",
      "def calculate_age(birth_date):\n",
      "    today = date.today()\n",
      "    age = today.year - birth_date.year\n",
      "    if today.month < birth_date.month or (today.month == birth_date.month and today.day < birth_date.day):\n",
      "        age -= 1\n",
      "    months = (today.month - birth_date.month) % 12\n",
      "    days = (today.day - birth_date.day) % 30  # Assuming each month has 30 days\n",
      "\n",
      "    return age, months, days\n",
      "\n",
      "# Enter your date of birth in the format: dd/mm/yyyy\n",
      "birth_date = date(1998, 8, 16)\n",
      "age_years, age_months, age_days = calculate_age(birth_date)\n",
      "\n",
      "print(\"Your age is: {} years, {} months, and {} days.\".format(age_years, age_months, age_days))\n",
      "\n"
     ]
    },
    {
     "data": {
      "text/plain": [
       "'Your age is: 25 years, 0 months, and 1 days.'"
      ]
     },
     "metadata": {},
     "output_type": "display_data"
    },
    {
     "name": "stdout",
     "output_type": "stream",
     "text": [
      "Code execution completed\n"
     ]
    }
   ],
   "source": [
    "%run agentbox.py --gpt_prompt \"calculate my age using python program. Give answer in year, months, and days. Use my date of birth as 12/11/1997.\""
   ]
  },
  {
   "cell_type": "code",
   "execution_count": null,
   "metadata": {},
   "outputs": [],
   "source": []
  },
  {
   "cell_type": "code",
   "execution_count": 3,
   "metadata": {},
   "outputs": [
    {
     "name": "stdout",
     "output_type": "stream",
     "text": [
      "['datetime', 'requests', 'numpy'] ['requests', 'numpy']\n"
     ]
    },
    {
     "data": {
      "text/plain": [
       "True"
      ]
     },
     "execution_count": 3,
     "metadata": {},
     "output_type": "execute_result"
    }
   ],
   "source": [
    "import ast\n",
    "import subprocess\n",
    "import sys\n",
    "\n",
    "def install_dependencies(code):\n",
    "    try:\n",
    "        # Parse the code to extract import statements\n",
    "        parsed_ast = ast.parse(code)\n",
    "        imports = []\n",
    "\n",
    "        for node in ast.walk(parsed_ast):\n",
    "            if isinstance(node, ast.Import):\n",
    "                imports.extend([name.name for name in node.names])\n",
    "            elif isinstance(node, ast.ImportFrom):\n",
    "                module_name = node.module\n",
    "                if module_name is not None:\n",
    "                    imports.append(module_name.split('.')[0])\n",
    "\n",
    "        # Remove duplicate imports and filter out standard library modules\n",
    "        imports = list(set(imports))\n",
    "        third_party_dependencies = [dep for dep in imports if dep not in sys.modules]\n",
    "        print(imports, third_party_dependencies)\n",
    "\n",
    "        if third_party_dependencies:\n",
    "            subprocess.check_call([sys.executable, \"-m\", \"pip\", \"install\"] + third_party_dependencies)\n",
    "            return True\n",
    "        else:\n",
    "            print(\"No third-party dependencies detected.\")\n",
    "            return True\n",
    "    except subprocess.CalledProcessError:\n",
    "        print(\"Dependency installation failed.\")\n",
    "        return False\n",
    "\n",
    "# Example usage\n",
    "code = \"\"\"\n",
    "from datetime import date\n",
    "import requests\n",
    "import numpy\n",
    "\"\"\"\n",
    "\n",
    "install_dependencies(code)\n"
   ]
  },
  {
   "cell_type": "code",
   "execution_count": 4,
   "metadata": {},
   "outputs": [
    {
     "name": "stdout",
     "output_type": "stream",
     "text": [
      "['datetime', 'requests', 'numpy', 'urllib'] ['requests', 'numpy']\n"
     ]
    },
    {
     "data": {
      "text/plain": [
       "True"
      ]
     },
     "execution_count": 4,
     "metadata": {},
     "output_type": "execute_result"
    }
   ],
   "source": [
    "code = \"from datetime import date\\nimport requests\\nimport numpy\\nfrom urllib.request import urlopen\\nfrom requests.exceptions import Timeout\"\n",
    "install_dependencies(code)"
   ]
  },
  {
   "cell_type": "code",
   "execution_count": null,
   "metadata": {},
   "outputs": [],
   "source": []
  },
  {
   "cell_type": "code",
   "execution_count": null,
   "metadata": {},
   "outputs": [],
   "source": []
  },
  {
   "cell_type": "code",
   "execution_count": 17,
   "metadata": {},
   "outputs": [
    {
     "name": "stdout",
     "output_type": "stream",
     "text": [
      "Dependency installation failed.\n",
      "msg  {'header': {'msg_id': '21a8f5c9-876b28498418cb09c8d8296b_22336_1', 'msg_type': 'status', 'username': 'username', 'session': '21a8f5c9-876b28498418cb09c8d8296b', 'date': datetime.datetime(2023, 8, 17, 6, 50, 7, 683511, tzinfo=tzutc()), 'version': '5.3'}, 'msg_id': '21a8f5c9-876b28498418cb09c8d8296b_22336_1', 'msg_type': 'status', 'parent_header': {'msg_id': '8c13aafd-b9e370c8fee7c47b36dddc88_14776_0', 'msg_type': 'execute_request', 'username': 'username', 'session': '8c13aafd-b9e370c8fee7c47b36dddc88', 'date': datetime.datetime(2023, 8, 17, 6, 50, 5, 636362, tzinfo=tzutc()), 'version': '5.3'}, 'metadata': {}, 'content': {'execution_state': 'busy'}, 'buffers': []}\n",
      "msg_type status\n",
      "msg  {'header': {'msg_id': '21a8f5c9-876b28498418cb09c8d8296b_22336_2', 'msg_type': 'execute_input', 'username': 'username', 'session': '21a8f5c9-876b28498418cb09c8d8296b', 'date': datetime.datetime(2023, 8, 17, 6, 50, 7, 684510, tzinfo=tzutc()), 'version': '5.3'}, 'msg_id': '21a8f5c9-876b28498418cb09c8d8296b_22336_2', 'msg_type': 'execute_input', 'parent_header': {'msg_id': '8c13aafd-b9e370c8fee7c47b36dddc88_14776_0', 'msg_type': 'execute_request', 'username': 'username', 'session': '8c13aafd-b9e370c8fee7c47b36dddc88', 'date': datetime.datetime(2023, 8, 17, 6, 50, 5, 636362, tzinfo=tzutc()), 'version': '5.3'}, 'metadata': {}, 'content': {'code': '\\nfrom datetime import date\\ndef calculate_age(birth_date):\\n    today = date.today()\\n    age = today.year - birth_date.year\\n    if today.month < birth_date.month or (today.month == birth_date.month and today.day < birth_date.day):\\n        age -= 1\\n    months = (today.month - birth_date.month) % 12\\n    days = (today.day - birth_date.day) % 30  # Assuming each month has 30 days\\n\\n    return age, months, days\\n\\n# Enter your date of birth in the format: dd/mm/yyyy\\nbirth_date = date(1998, 4, 4)\\nage_years, age_months, age_days = calculate_age(birth_date)\\n\\nprint(\"Your age is: {} years, {} months, and {} days.\".format(age_years, age_months, age_days))\\n', 'execution_count': 1}, 'buffers': []}\n",
      "msg_type execute_input\n",
      "msg  {'header': {'msg_id': '21a8f5c9-876b28498418cb09c8d8296b_22336_3', 'msg_type': 'stream', 'username': 'username', 'session': '21a8f5c9-876b28498418cb09c8d8296b', 'date': datetime.datetime(2023, 8, 17, 6, 50, 7, 702852, tzinfo=tzutc()), 'version': '5.3'}, 'msg_id': '21a8f5c9-876b28498418cb09c8d8296b_22336_3', 'msg_type': 'stream', 'parent_header': {'msg_id': '8c13aafd-b9e370c8fee7c47b36dddc88_14776_0', 'msg_type': 'execute_request', 'username': 'username', 'session': '8c13aafd-b9e370c8fee7c47b36dddc88', 'date': datetime.datetime(2023, 8, 17, 6, 50, 5, 636362, tzinfo=tzutc()), 'version': '5.3'}, 'metadata': {}, 'content': {'name': 'stdout', 'text': 'Your age is: 25 years, 4 months, and 13 days.\\n'}, 'buffers': []}\n",
      "msg_type stream\n"
     ]
    },
    {
     "data": {
      "text/plain": [
       "'Your age is: 25 years, 4 months, and 13 days.'"
      ]
     },
     "metadata": {},
     "output_type": "display_data"
    },
    {
     "name": "stdout",
     "output_type": "stream",
     "text": [
      "msg  {'header': {'msg_id': '21a8f5c9-876b28498418cb09c8d8296b_22336_5', 'msg_type': 'status', 'username': 'username', 'session': '21a8f5c9-876b28498418cb09c8d8296b', 'date': datetime.datetime(2023, 8, 17, 6, 50, 7, 712463, tzinfo=tzutc()), 'version': '5.3'}, 'msg_id': '21a8f5c9-876b28498418cb09c8d8296b_22336_5', 'msg_type': 'status', 'parent_header': {'msg_id': '8c13aafd-b9e370c8fee7c47b36dddc88_14776_0', 'msg_type': 'execute_request', 'username': 'username', 'session': '8c13aafd-b9e370c8fee7c47b36dddc88', 'date': datetime.datetime(2023, 8, 17, 6, 50, 5, 636362, tzinfo=tzutc()), 'version': '5.3'}, 'metadata': {}, 'content': {'execution_state': 'idle'}, 'buffers': []}\n",
      "msg_type status\n",
      "Code execution completed\n"
     ]
    }
   ],
   "source": [
    "import asyncio\n",
    "asyncio.set_event_loop_policy(asyncio.WindowsSelectorEventLoopPolicy())\n",
    "\n",
    "import sys\n",
    "sys.path.append(\"..\")\n",
    "import openagent\n",
    "from openagent.llms._openai import OpenAI as guidance_llm\n",
    "from openagent.agent.chat import ChatAgent\n",
    "from dotenv import load_dotenv\n",
    "load_dotenv()\n",
    "\n",
    "from jupyter_client import KernelManager\n",
    "from IPython import display\n",
    "import subprocess\n",
    "import ast\n",
    "import time\n",
    "import argparse\n",
    "import textwrap\n",
    "import threading\n",
    "\n",
    "\n",
    "def install_dependencies(code):\n",
    "    try:\n",
    "        # Parse the code to extract import statements\n",
    "        parsed_ast = ast.parse(code)\n",
    "        imports = [node.names[0].name.split('.')[0] for node in ast.walk(parsed_ast) if isinstance(node, ast.Import) or isinstance(node, ast.ImportFrom)]\n",
    "        \n",
    "        # print(imports)\n",
    "        if imports:\n",
    "            subprocess.check_call([\"pip\", \"install\"] + imports)\n",
    "            return True\n",
    "        else:\n",
    "            print(\"No dependencies detected.\")\n",
    "            return True\n",
    "    except subprocess.CalledProcessError:\n",
    "        print(\"Dependency installation failed.\")\n",
    "        return True # Change this to False\n",
    "\n",
    "\n",
    "def run_python_code_in_kernel(code):\n",
    "    # Create a kernel manager\n",
    "    km = KernelManager(kernel_name='python3')  # Use the appropriate kernel name\n",
    "\n",
    "    # Start the kernel\n",
    "    km.start_kernel()\n",
    "\n",
    "    # Connect to the kernel\n",
    "    kc = km.client()\n",
    "    kc.start_channels()\n",
    "\n",
    "    # Execute the code in the kernel\n",
    "    kc.execute(code)\n",
    "\n",
    "    # Create a thread for waiting on messages\n",
    "    def wait_for_messages():\n",
    "        try:\n",
    "            while True:\n",
    "                msg = kc.get_iopub_msg()\n",
    "                msg_type = msg['header']['msg_type']\n",
    "                print(\"msg \", msg)\n",
    "                print(\"msg_type\", msg_type)\n",
    "                if msg_type == 'display_data':\n",
    "                    output_data = msg['content']['data']\n",
    "                    if 'image/png' in output_data:\n",
    "                        display.display_png(output_data['image/png'], raw=True)\n",
    "                    elif 'image/jpeg' in output_data:\n",
    "                        display.display_jpeg(output_data['image/png'], raw=True)\n",
    "                elif msg_type == 'stream':\n",
    "                    output_data = msg['content']['text']\n",
    "                    output_data = output_data.split(\"\\n\")\n",
    "                    for output in output_data[:-1]:\n",
    "                        display.display(output)\n",
    "        except asyncio.CancelledError:\n",
    "            pass  # Ignore the exception\n",
    "    \n",
    "    # Start the message-waiting thread\n",
    "    message_thread = threading.Thread(target=wait_for_messages)\n",
    "    message_thread.start()\n",
    "\n",
    "    # Wait for the specified timeout\n",
    "    timeout_seconds = 5\n",
    "    message_thread.join(timeout_seconds)\n",
    "\n",
    "    # Check if the thread is still alive (indicating timeout)\n",
    "    if message_thread.is_alive():\n",
    "        print(\"Code execution completed\")\n",
    "    else:\n",
    "        print(\"Code execution completed within the timeout.\")\n",
    "\n",
    "    # Stop the kernel\n",
    "    kc.stop_channels()\n",
    "    km.shutdown_kernel()\n",
    "\n",
    "# Main function\n",
    "def main():\n",
    "    code = \"\"\"\n",
    "            from datetime import date\n",
    "            def calculate_age(birth_date):\n",
    "                today = date.today()\n",
    "                age = today.year - birth_date.year\n",
    "                if today.month < birth_date.month or (today.month == birth_date.month and today.day < birth_date.day):\n",
    "                    age -= 1\n",
    "                months = (today.month - birth_date.month) % 12\n",
    "                days = (today.day - birth_date.day) % 30  # Assuming each month has 30 days\n",
    "\n",
    "                return age, months, days\n",
    "\n",
    "            # Enter your date of birth in the format: dd/mm/yyyy\n",
    "            birth_date = date(1998, 4, 4)\n",
    "            age_years, age_months, age_days = calculate_age(birth_date)\n",
    "\n",
    "            print(\"Your age is: {} years, {} months, and {} days.\".format(age_years, age_months, age_days))\n",
    "        \"\"\"\n",
    "    code = textwrap.dedent(code)\n",
    "    # agent = agent()\n",
    "    # res = agent().run(input=gpt_prompt)\n",
    "    # code = f\"\"\"{res.split('```')[1].replace('python', '')}\"\"\"\n",
    "    # print(code)\n",
    "\n",
    "    # Install dependencies\n",
    "    if install_dependencies(code):\n",
    "        # Run the generated code in the Jupyter kernel\n",
    "        run_python_code_in_kernel(code)\n",
    "\n",
    "if __name__ == \"__main__\":\n",
    "    # parser = argparse.ArgumentParser(description='Execute Python code from the command line.')\n",
    "    # parser.add_argument(\"--gpt_prompt\", help=\"Python code to be executed\", default=None)\n",
    "    # args = parser.parse_args()\n",
    "    # gpt_prompt = args.gpt_prompt\n",
    "\n",
    "    main()\n"
   ]
  },
  {
   "cell_type": "code",
   "execution_count": null,
   "metadata": {},
   "outputs": [],
   "source": []
  },
  {
   "cell_type": "code",
   "execution_count": null,
   "metadata": {},
   "outputs": [],
   "source": []
  }
 ],
 "metadata": {
  "kernelspec": {
   "display_name": "Python 3",
   "language": "python",
   "name": "python3"
  },
  "language_info": {
   "codemirror_mode": {
    "name": "ipython",
    "version": 3
   },
   "file_extension": ".py",
   "mimetype": "text/x-python",
   "name": "python",
   "nbconvert_exporter": "python",
   "pygments_lexer": "ipython3",
   "version": "3.9.7"
  },
  "orig_nbformat": 4
 },
 "nbformat": 4,
 "nbformat_minor": 2
}
