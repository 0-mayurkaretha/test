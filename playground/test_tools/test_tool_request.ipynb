{
 "cells": [
  {
   "cell_type": "code",
   "execution_count": null,
   "metadata": {},
   "outputs": [],
   "source": [
    "from openagent.tools.basetool import Tool\n",
    "from openagent.tools.toolkits.requests_toolkit.request import RequestsToolkit\n",
    "from openagent.tools.toolkits.requests_toolkit.requests.base import RequestsGetTool, RequestsPostTool, RequestsPatchTool, RequestsPutTool, RequestsDeleteTool\n",
    "from openagent.tools.toolkits.requests_toolkit.requests.utils import TextRequestsWrapper\n",
    "from openagent import compiler\n",
    "import json"
   ]
  }
 ],
 "metadata": {
  "language_info": {
   "name": "python"
  },
  "orig_nbformat": 4
 },
 "nbformat": 4,
 "nbformat_minor": 2
}
